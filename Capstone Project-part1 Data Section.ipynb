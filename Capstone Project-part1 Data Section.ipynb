{
    "cells": [
        {
            "metadata": {
                "collapsed": true
            },
            "cell_type": "markdown",
            "source": "# 2.DATA SECTION"
        },
        {
            "metadata": {},
            "cell_type": "markdown",
            "source": "2.1 Data Sources:\n    Data of Medical Institutions with Licensesis listed in the AERB eLORA webpage https://elora.aerb.gov.in/ELORA/prePopulateGraphData.htm\n    Available raw Data are: Institution Name, Address, City, Pincode(Zipcode), State, Type of equipment, Make, Model and Institution profile. \n    In the same webpage, Approved Service agencies are listed. \n    Available  raw data are: Name of Institution, Permanent address, Landmark, city, state, pin, email, Office telephone and service engineers.\n    Let's name the above two lists as List1 (Equipment Location) and List2(Agency Location) respectively."
        },
        {
            "metadata": {},
            "cell_type": "markdown",
            "source": "2.2 Data Cleaning:\n\n     Process the approved agency list(List2)\n     \n     Step 1: Replace \"Name of Institute\" as \" Service Agency Name\"\n     Step 2: Join \"Permanent address\" column data with \"Address\" column data in List2\n     Step 3: \"City\" columns in the two lists are merged\n     Step 4:  Join \"pincode\" column in the two lists\n     Step 5:  Drop Columns like \"state\", \"email\",\"Institute Telephone\", \" Servoce engineer\"\n     Step 6:  In the list1 drop columns like \"state\", \"make,\"model\" and \"Institute Profile\"\n     Step 7:  Data scraped from the 2 lists are combined to make one table for making the analysis easy \n     \n Now, we have a table with hospitals name and agency name listed along. There are 32 cities in the state. AERB approved QA agencies are located only in 5 major cities like Chennai, Coimbatore, Salem, krishnagiri and Madurai. Most of these cities are in the Northern part of Tamilnadu. Madurai is the only one city that has 2 service agencies in the southern region. Geopy geocoder will help in getting us the latitude and longititude of cities.We can use the Clustering algorithm to group the hospitals(medical instituition) city wise.we can select the most approprite cities where there is no availability of QA services near-by. With foursquare API, the most common venue is selected in the respective cities. Thus the sale price of office space for the agency can be investigated. This project will give an insight to \"Investment cost\" in this new start-up business."
        }
    ],
    "metadata": {
        "kernelspec": {
            "name": "python3",
            "display_name": "Python 3.6",
            "language": "python"
        },
        "language_info": {
            "name": "python",
            "version": "3.6.9",
            "mimetype": "text/x-python",
            "codemirror_mode": {
                "name": "ipython",
                "version": 3
            },
            "pygments_lexer": "ipython3",
            "nbconvert_exporter": "python",
            "file_extension": ".py"
        }
    },
    "nbformat": 4,
    "nbformat_minor": 1
}