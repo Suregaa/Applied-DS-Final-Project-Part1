{
    "cells": [
        {
            "cell_type": "markdown",
            "metadata": {
                "collapsed": true
            },
            "source": "# Prospects of a starting a Radiology Consultation Agency in Tamilnadu state, India"
        },
        {
            "cell_type": "markdown",
            "metadata": {},
            "source": "## Discussion & Background of the Business problem"
        },
        {
            "cell_type": "markdown",
            "metadata": {},
            "source": " 1. Introduction/Background:"
        },
        {
            "cell_type": "markdown",
            "metadata": {},
            "source": "Tamilnadu is the second developed state in India with a total poulation of 78.3Million. Atomic Energy Regulatory Board(AERB),Mumbai, India is the Government Organization to regularize Diagnostic Radiology Equipment across the country. As per AERB's directive, all existing and new radiology equipmet(X ray machines, CT scanners, C-Arm Machines, Dental X ray units and fluroscopy unit) should get registered under e-Liscensing of Radiation Application (eLORA) system. The AERB issues Licences of operation to the equipment after scrutinizing the Quality Assurance(QA) test reports, submitted through eLORA system by the hospitals. There are 9730 radiology equiplment available in Tamilnadu as per their latest report published in eLORA website. But,in the sate, QA services agencies listed by AERB is ONLY 18. The License issued is valid for a period of 3 Years. After 3 years, a hospital must seek a QA agency to visit and perform the mandatory QA tests and the Report of the same should be submitted to AERB for the License Renewal. People are also advised to undergo diagnostic procedures with the AERB licensed Radiology machines. Thus, we have a bussiness opportunity to starting a new QA service agency in Tamilnadu which is a less competitive and more profitable interms of scarcity in resources availability."
        },
        {
            "cell_type": "markdown",
            "metadata": {},
            "source": "2. Target Audiences:"
        },
        {
            "cell_type": "markdown",
            "metadata": {},
            "source": "\n* Bussiness people interested in ninvesting in new projects\n* Radiological Safety Officers, who is the signing authority for QA reports in its final form of eLORA,AERB\n* Service engineers, Medical physicists who seek job opportunities in Diagnostic radiology.\n* Budding Data Scientists, who want to implement some of the most used Exploratory Data Analysis techniques to obtain necessary data,\nanalyze it, and, finally be able to tell a story out of it. This project will analyse the data and gives conclusions of where to start \na Radiology QA service agency across the state and where to construct a office sapce in the most profitable city location."
        }
    ],
    "metadata": {
        "kernelspec": {
            "display_name": "Python 3.6",
            "language": "python",
            "name": "python3"
        },
        "language_info": {
            "codemirror_mode": {
                "name": "ipython",
                "version": 3
            },
            "file_extension": ".py",
            "mimetype": "text/x-python",
            "name": "python",
            "nbconvert_exporter": "python",
            "pygments_lexer": "ipython3",
            "version": "3.6.9"
        }
    },
    "nbformat": 4,
    "nbformat_minor": 1
}