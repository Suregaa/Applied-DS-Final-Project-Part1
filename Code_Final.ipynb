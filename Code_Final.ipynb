{
    "cells": [
        {
            "cell_type": "markdown",
            "metadata": {},
            "source": "# Code for my Final Project"
        },
        {
            "cell_type": "code",
            "execution_count": 14,
            "metadata": {},
            "outputs": [],
            "source": "import json # library to handle JSON files\nfrom pandas.io.json import json_normalize # tranform JSON file into a pandas dataframe\nimport matplotlib.cm as cm\nimport matplotlib.colors as colors\nimport requests\nimport numpy as np\nimport pandas as pd"
        },
        {
            "cell_type": "markdown",
            "metadata": {},
            "source": "## I have prepared a Excel data sheet for this project from the web source of Atomic Energy Regualatory Board of India, that has no json/csv format\nI have added the Data to my IBM project"
        },
        {
            "cell_type": "code",
            "execution_count": 15,
            "metadata": {},
            "outputs": [],
            "source": "# The code was removed by Watson Studio for sharing."
        },
        {
            "cell_type": "markdown",
            "metadata": {},
            "source": "## Converting the Excel data into Pandas Data frame"
        },
        {
            "cell_type": "code",
            "execution_count": 16,
            "metadata": {},
            "outputs": [
                {
                    "data": {
                        "text/html": "<div>\n<style scoped>\n    .dataframe tbody tr th:only-of-type {\n        vertical-align: middle;\n    }\n\n    .dataframe tbody tr th {\n        vertical-align: top;\n    }\n\n    .dataframe thead th {\n        text-align: right;\n    }\n</style>\n<table border=\"1\" class=\"dataframe\">\n  <thead>\n    <tr style=\"text-align: right;\">\n      <th></th>\n      <th>S.No</th>\n      <th>Institution Name</th>\n      <th>Address</th>\n      <th>PinCode</th>\n      <th>City</th>\n    </tr>\n  </thead>\n  <tbody>\n    <tr>\n      <th>0</th>\n      <td>1</td>\n      <td>Aarthi Scans</td>\n      <td>40,Palayamkottai Road</td>\n      <td>628001</td>\n      <td>Thoothukudi</td>\n    </tr>\n    <tr>\n      <th>1</th>\n      <td>2</td>\n      <td>Stanley Diagnostics</td>\n      <td>Victoria Extension road</td>\n      <td>628001</td>\n      <td>Thoothukudi</td>\n    </tr>\n    <tr>\n      <th>2</th>\n      <td>3</td>\n      <td>Best daignostic Center</td>\n      <td>7th Street middle, Bryant Nagar</td>\n      <td>628008</td>\n      <td>Thoothukudi</td>\n    </tr>\n    <tr>\n      <th>3</th>\n      <td>4</td>\n      <td>Apollo Diagnistics</td>\n      <td>49A,1st street,Bryant Nagar</td>\n      <td>628008</td>\n      <td>Thoothukudi</td>\n    </tr>\n    <tr>\n      <th>4</th>\n      <td>5</td>\n      <td>Super Scans</td>\n      <td>Kaliappa Pillai Street, Mattakadai</td>\n      <td>628001</td>\n      <td>Thoothukudi</td>\n    </tr>\n  </tbody>\n</table>\n</div>",
                        "text/plain": "   S.No        Institution Name                             Address  PinCode  \\\n0     1            Aarthi Scans               40,Palayamkottai Road   628001   \n1     2     Stanley Diagnostics             Victoria Extension road   628001   \n2     3  Best daignostic Center     7th Street middle, Bryant Nagar   628008   \n3     4      Apollo Diagnistics         49A,1st street,Bryant Nagar   628008   \n4     5             Super Scans  Kaliappa Pillai Street, Mattakadai   628001   \n\n          City  \n0  Thoothukudi  \n1  Thoothukudi  \n2  Thoothukudi  \n3  Thoothukudi  \n4  Thoothukudi  "
                    },
                    "execution_count": 16,
                    "metadata": {},
                    "output_type": "execute_result"
                }
            ],
            "source": "# The code was removed by Watson Studio for sharing."
        },
        {
            "cell_type": "code",
            "execution_count": 17,
            "metadata": {},
            "outputs": [
                {
                    "data": {
                        "text/plain": "(39, 5)"
                    },
                    "execution_count": 17,
                    "metadata": {},
                    "output_type": "execute_result"
                }
            ],
            "source": "df.shape"
        },
        {
            "cell_type": "markdown",
            "metadata": {},
            "source": "## Getting the latitude and the longitude coordinates of each neighborhood"
        },
        {
            "cell_type": "code",
            "execution_count": 25,
            "metadata": {},
            "outputs": [
                {
                    "name": "stdout",
                    "output_type": "stream",
                    "text": "\nThe following command must be run outside of the IPython shell:\n\n    $ pip install geopandas\n\nThe Python package manager (pip) can only be used from outside of IPython.\nPlease reissue the `pip` command in a separate terminal or command prompt.\n\nSee the Python documentation for more information on how to install packages:\n\n    https://docs.python.org/3/installing/\n"
                }
            ],
            "source": "pip install geopandas"
        },
        {
            "cell_type": "code",
            "execution_count": 26,
            "metadata": {},
            "outputs": [
                {
                    "name": "stdout",
                    "output_type": "stream",
                    "text": "\nThe following command must be run outside of the IPython shell:\n\n    $ pip install geopy\n\nThe Python package manager (pip) can only be used from outside of IPython.\nPlease reissue the `pip` command in a separate terminal or command prompt.\n\nSee the Python documentation for more information on how to install packages:\n\n    https://docs.python.org/3/installing/\n"
                }
            ],
            "source": "pip install geopy"
        },
        {
            "cell_type": "code",
            "execution_count": 27,
            "metadata": {},
            "outputs": [],
            "source": "from geopy.geocoders import Nominatim # convert an address into latitude and longitude values"
        },
        {
            "cell_type": "code",
            "execution_count": 30,
            "metadata": {},
            "outputs": [
                {
                    "name": "stderr",
                    "output_type": "stream",
                    "text": "/opt/conda/envs/Python36/lib/python3.6/site-packages/ipykernel/__main__.py:2: DeprecationWarning: Using Nominatim with the default \"geopy/1.18.1\" `user_agent` is strongly discouraged, as it violates Nominatim's ToS https://operations.osmfoundation.org/policies/nominatim/ and may possibly cause 403 and 429 HTTP errors. Please specify a custom `user_agent` with `Nominatim(user_agent=\"my-application\")` or by overriding the default `user_agent`: `geopy.geocoders.options.default_user_agent = \"my-application\"`. In geopy 2.0 this will become an exception.\n  from ipykernel import kernelapp as app\n"
                }
            ],
            "source": "from geopy.extra.rate_limiter import RateLimiter\nlocator = Nominatim()\n# 1 - conveneint function to delay between geocoding calls\ngeocode = RateLimiter(locator.geocode, min_delay_seconds=1)\n# 2- - create location column\ndf['location'] = df['PinCode'].apply(geocode)\n# 3 - create longitude, laatitude and altitude from location column (returns tuple)\ndf['point'] = df['location'].apply(lambda loc: tuple(loc.point) if loc else None)\n# 4 - split point column into latitude, longitude and altitude columns\ndf[['latitude', 'longitude', 'altitude']] = pd.DataFrame(df['point'].tolist(), index=df.index)\n"
        },
        {
            "cell_type": "code",
            "execution_count": 32,
            "metadata": {},
            "outputs": [
                {
                    "data": {
                        "text/html": "<div>\n<style scoped>\n    .dataframe tbody tr th:only-of-type {\n        vertical-align: middle;\n    }\n\n    .dataframe tbody tr th {\n        vertical-align: top;\n    }\n\n    .dataframe thead th {\n        text-align: right;\n    }\n</style>\n<table border=\"1\" class=\"dataframe\">\n  <thead>\n    <tr style=\"text-align: right;\">\n      <th></th>\n      <th>S.No</th>\n      <th>Institution Name</th>\n      <th>Address</th>\n      <th>PinCode</th>\n      <th>City</th>\n      <th>location</th>\n      <th>point</th>\n      <th>latitude</th>\n      <th>longitude</th>\n      <th>altitude</th>\n    </tr>\n  </thead>\n  <tbody>\n    <tr>\n      <th>0</th>\n      <td>1</td>\n      <td>Aarthi Scans</td>\n      <td>40,Palayamkottai Road</td>\n      <td>628001</td>\n      <td>Thoothukudi</td>\n      <td>(\u0425\u0430\u043d\u0442\u044b-\u041c\u0430\u043d\u0441\u0438\u0439\u0441\u043a, \u0433\u043e\u0440\u043e\u0434\u0441\u043a\u043e\u0439 \u043e\u043a\u0440\u0443\u0433 \u0425\u0430\u043d\u0442\u044b-\u041c\u0430\u043d\u0441\u0438\u0439\u0441...</td>\n      <td>(60.97264786433424, 69.0344799726898, 0.0)</td>\n      <td>60.972648</td>\n      <td>69.034480</td>\n      <td>0.0</td>\n    </tr>\n    <tr>\n      <th>1</th>\n      <td>2</td>\n      <td>Stanley Diagnostics</td>\n      <td>Victoria Extension road</td>\n      <td>628001</td>\n      <td>Thoothukudi</td>\n      <td>(\u0425\u0430\u043d\u0442\u044b-\u041c\u0430\u043d\u0441\u0438\u0439\u0441\u043a, \u0433\u043e\u0440\u043e\u0434\u0441\u043a\u043e\u0439 \u043e\u043a\u0440\u0443\u0433 \u0425\u0430\u043d\u0442\u044b-\u041c\u0430\u043d\u0441\u0438\u0439\u0441...</td>\n      <td>(60.97264786433424, 69.0344799726898, 0.0)</td>\n      <td>60.972648</td>\n      <td>69.034480</td>\n      <td>0.0</td>\n    </tr>\n    <tr>\n      <th>2</th>\n      <td>3</td>\n      <td>Best daignostic Center</td>\n      <td>7th Street middle, Bryant Nagar</td>\n      <td>628008</td>\n      <td>Thoothukudi</td>\n      <td>(Mukkudu, Thoothukudi, Thoothukkudi, Thoothukk...</td>\n      <td>(8.7877396, 78.1236177, 0.0)</td>\n      <td>8.787740</td>\n      <td>78.123618</td>\n      <td>0.0</td>\n    </tr>\n    <tr>\n      <th>3</th>\n      <td>4</td>\n      <td>Apollo Diagnistics</td>\n      <td>49A,1st street,Bryant Nagar</td>\n      <td>628008</td>\n      <td>Thoothukudi</td>\n      <td>(Mukkudu, Thoothukudi, Thoothukkudi, Thoothukk...</td>\n      <td>(8.7877396, 78.1236177, 0.0)</td>\n      <td>8.787740</td>\n      <td>78.123618</td>\n      <td>0.0</td>\n    </tr>\n    <tr>\n      <th>4</th>\n      <td>5</td>\n      <td>Super Scans</td>\n      <td>Kaliappa Pillai Street, Mattakadai</td>\n      <td>628001</td>\n      <td>Thoothukudi</td>\n      <td>(\u0425\u0430\u043d\u0442\u044b-\u041c\u0430\u043d\u0441\u0438\u0439\u0441\u043a, \u0433\u043e\u0440\u043e\u0434\u0441\u043a\u043e\u0439 \u043e\u043a\u0440\u0443\u0433 \u0425\u0430\u043d\u0442\u044b-\u041c\u0430\u043d\u0441\u0438\u0439\u0441...</td>\n      <td>(60.97264786433424, 69.0344799726898, 0.0)</td>\n      <td>60.972648</td>\n      <td>69.034480</td>\n      <td>0.0</td>\n    </tr>\n  </tbody>\n</table>\n</div>",
                        "text/plain": "   S.No        Institution Name                             Address  PinCode  \\\n0     1            Aarthi Scans               40,Palayamkottai Road   628001   \n1     2     Stanley Diagnostics             Victoria Extension road   628001   \n2     3  Best daignostic Center     7th Street middle, Bryant Nagar   628008   \n3     4      Apollo Diagnistics         49A,1st street,Bryant Nagar   628008   \n4     5             Super Scans  Kaliappa Pillai Street, Mattakadai   628001   \n\n          City                                           location  \\\n0  Thoothukudi  (\u0425\u0430\u043d\u0442\u044b-\u041c\u0430\u043d\u0441\u0438\u0439\u0441\u043a, \u0433\u043e\u0440\u043e\u0434\u0441\u043a\u043e\u0439 \u043e\u043a\u0440\u0443\u0433 \u0425\u0430\u043d\u0442\u044b-\u041c\u0430\u043d\u0441\u0438\u0439\u0441...   \n1  Thoothukudi  (\u0425\u0430\u043d\u0442\u044b-\u041c\u0430\u043d\u0441\u0438\u0439\u0441\u043a, \u0433\u043e\u0440\u043e\u0434\u0441\u043a\u043e\u0439 \u043e\u043a\u0440\u0443\u0433 \u0425\u0430\u043d\u0442\u044b-\u041c\u0430\u043d\u0441\u0438\u0439\u0441...   \n2  Thoothukudi  (Mukkudu, Thoothukudi, Thoothukkudi, Thoothukk...   \n3  Thoothukudi  (Mukkudu, Thoothukudi, Thoothukkudi, Thoothukk...   \n4  Thoothukudi  (\u0425\u0430\u043d\u0442\u044b-\u041c\u0430\u043d\u0441\u0438\u0439\u0441\u043a, \u0433\u043e\u0440\u043e\u0434\u0441\u043a\u043e\u0439 \u043e\u043a\u0440\u0443\u0433 \u0425\u0430\u043d\u0442\u044b-\u041c\u0430\u043d\u0441\u0438\u0439\u0441...   \n\n                                        point   latitude  longitude  altitude  \n0  (60.97264786433424, 69.0344799726898, 0.0)  60.972648  69.034480       0.0  \n1  (60.97264786433424, 69.0344799726898, 0.0)  60.972648  69.034480       0.0  \n2                (8.7877396, 78.1236177, 0.0)   8.787740  78.123618       0.0  \n3                (8.7877396, 78.1236177, 0.0)   8.787740  78.123618       0.0  \n4  (60.97264786433424, 69.0344799726898, 0.0)  60.972648  69.034480       0.0  "
                    },
                    "execution_count": 32,
                    "metadata": {},
                    "output_type": "execute_result"
                }
            ],
            "source": "df.head()"
        },
        {
            "cell_type": "markdown",
            "metadata": {},
            "source": "## Here, we select the Tirunelveli city that lies in the middle of Thoothukudi and Kanyakumari cities"
        },
        {
            "cell_type": "code",
            "execution_count": 34,
            "metadata": {},
            "outputs": [
                {
                    "name": "stderr",
                    "output_type": "stream",
                    "text": "/opt/conda/envs/Python36/lib/python3.6/site-packages/ipykernel/__main__.py:3: DeprecationWarning: Using Nominatim with the default \"geopy/1.18.1\" `user_agent` is strongly discouraged, as it violates Nominatim's ToS https://operations.osmfoundation.org/policies/nominatim/ and may possibly cause 403 and 429 HTTP errors. Please specify a custom `user_agent` with `Nominatim(user_agent=\"my-application\")` or by overriding the default `user_agent`: `geopy.geocoders.options.default_user_agent = \"my-application\"`. In geopy 2.0 this will become an exception.\n  app.launch_new_instance()\n"
                },
                {
                    "name": "stdout",
                    "output_type": "stream",
                    "text": "The geograpical coordinate of the City of Tirunelveli are 8.8082342, 77.8114843.\n"
                }
            ],
            "source": "address = 'Tirunelveli, India'\n\ngeolocator = Nominatim()\nlocation = geolocator.geocode(address)\nlatitude = location.latitude\nlongitude = location.longitude\nprint('The geograpical coordinate of the City of Tirunelveli are {}, {}.'.format(latitude, longitude))\n"
        },
        {
            "cell_type": "code",
            "execution_count": 35,
            "metadata": {},
            "outputs": [
                {
                    "name": "stdout",
                    "output_type": "stream",
                    "text": "Your credentails:\nCLIENT_ID: V1OVEOGKCB3MTGBJUMYDGWN4TJPA3VFMOQK0KVNJGOXPHTDE\nCLIENT_SECRET:CR314FBCARORO5LIXCCFXC1HGYNZPKZKKMFNSSSB2N1JLC52\n"
                }
            ],
            "source": "CLIENT_ID = 'V1OVEOGKCB3MTGBJUMYDGWN4TJPA3VFMOQK0KVNJGOXPHTDE' # your Foursquare ID\nCLIENT_SECRET = 'CR314FBCARORO5LIXCCFXC1HGYNZPKZKKMFNSSSB2N1JLC52' # your Foursquare Secret\nVERSION = '20200506' # Foursquare API version\nLATITUDE='8.8082342'\nLONGITUDE='77.8114843'\n\nprint('Your credentails:')\nprint('CLIENT_ID: ' + CLIENT_ID)\nprint('CLIENT_SECRET:' + CLIENT_SECRET)\n"
        },
        {
            "cell_type": "code",
            "execution_count": 36,
            "metadata": {},
            "outputs": [
                {
                    "data": {
                        "text/html": "<div>\n<style scoped>\n    .dataframe tbody tr th:only-of-type {\n        vertical-align: middle;\n    }\n\n    .dataframe tbody tr th {\n        vertical-align: top;\n    }\n\n    .dataframe thead th {\n        text-align: right;\n    }\n</style>\n<table border=\"1\" class=\"dataframe\">\n  <thead>\n    <tr style=\"text-align: right;\">\n      <th></th>\n      <th>S.No</th>\n      <th>Institution Name</th>\n      <th>Address</th>\n      <th>PinCode</th>\n      <th>City</th>\n      <th>location</th>\n      <th>point</th>\n      <th>latitude</th>\n      <th>longitude</th>\n      <th>altitude</th>\n    </tr>\n  </thead>\n  <tbody>\n    <tr>\n      <th>0</th>\n      <td>16</td>\n      <td>Medall Diagnostics</td>\n      <td>10/5,Bypass road</td>\n      <td>627003</td>\n      <td>Tirunelveli</td>\n      <td>(Palayamkottai, Tirunelveli Kattabo, Tamil Nad...</td>\n      <td>(8.726356289189562, 77.7218275094003, 0.0)</td>\n      <td>8.726356</td>\n      <td>77.721828</td>\n      <td>0.0</td>\n    </tr>\n    <tr>\n      <th>1</th>\n      <td>17</td>\n      <td>Aarthi Scans and Labs</td>\n      <td>Lakshmi Complex, North High road</td>\n      <td>627002</td>\n      <td>Tirunelveli</td>\n      <td>(Palayamkottai, Tirunelveli Kattabo, Tamil Nad...</td>\n      <td>(8.72159774, 77.7378858, 0.0)</td>\n      <td>8.721598</td>\n      <td>77.737886</td>\n      <td>0.0</td>\n    </tr>\n    <tr>\n      <th>2</th>\n      <td>18</td>\n      <td>Anderson Daignostics and Labs</td>\n      <td>Anna Salai, Vannarpettai</td>\n      <td>627003</td>\n      <td>Tirunelveli</td>\n      <td>(Palayamkottai, Tirunelveli Kattabo, Tamil Nad...</td>\n      <td>(8.726356289189562, 77.7218275094003, 0.0)</td>\n      <td>8.726356</td>\n      <td>77.721828</td>\n      <td>0.0</td>\n    </tr>\n    <tr>\n      <th>3</th>\n      <td>19</td>\n      <td>RIO Scans and Labs</td>\n      <td>Ezhil Nagar, NGO Colony</td>\n      <td>627007</td>\n      <td>Tirunelveli</td>\n      <td>(Palayamkottai, Tirunelveli Kattabo, Tamil Nad...</td>\n      <td>(8.69764295341798, 77.73958474672634, 0.0)</td>\n      <td>8.697643</td>\n      <td>77.739585</td>\n      <td>0.0</td>\n    </tr>\n    <tr>\n      <th>4</th>\n      <td>20</td>\n      <td>Medall Healthcare pvt limited</td>\n      <td>Salai Street, Vannapettai</td>\n      <td>627003</td>\n      <td>Tirunelveli</td>\n      <td>(Palayamkottai, Tirunelveli Kattabo, Tamil Nad...</td>\n      <td>(8.726356289189562, 77.7218275094003, 0.0)</td>\n      <td>8.726356</td>\n      <td>77.721828</td>\n      <td>0.0</td>\n    </tr>\n    <tr>\n      <th>5</th>\n      <td>21</td>\n      <td>Medall Diagnostics</td>\n      <td>Chermadevi Road</td>\n      <td>627004</td>\n      <td>Tirunelveli</td>\n      <td>(Tirunelveli, Tirunelveli Kattabo, Tamil Nadu,...</td>\n      <td>(8.72443596, 77.68446775999999, 0.0)</td>\n      <td>8.724436</td>\n      <td>77.684468</td>\n      <td>0.0</td>\n    </tr>\n    <tr>\n      <th>6</th>\n      <td>22</td>\n      <td>Aarthi Scans and Labs</td>\n      <td>Trivandrum Road, Vannarpettai</td>\n      <td>627003</td>\n      <td>Tirunelveli</td>\n      <td>(Palayamkottai, Tirunelveli Kattabo, Tamil Nad...</td>\n      <td>(8.726356289189562, 77.7218275094003, 0.0)</td>\n      <td>8.726356</td>\n      <td>77.721828</td>\n      <td>0.0</td>\n    </tr>\n    <tr>\n      <th>7</th>\n      <td>23</td>\n      <td>Apollo Diagnostics</td>\n      <td>Muthamil ROAD, Vannarpettai</td>\n      <td>627003</td>\n      <td>Tirunelveli</td>\n      <td>(Palayamkottai, Tirunelveli Kattabo, Tamil Nad...</td>\n      <td>(8.726356289189562, 77.7218275094003, 0.0)</td>\n      <td>8.726356</td>\n      <td>77.721828</td>\n      <td>0.0</td>\n    </tr>\n    <tr>\n      <th>8</th>\n      <td>24</td>\n      <td>SRL Diagnostics</td>\n      <td>Palayamkottai</td>\n      <td>627002</td>\n      <td>Tirunelveli</td>\n      <td>(Palayamkottai, Tirunelveli Kattabo, Tamil Nad...</td>\n      <td>(8.72159774, 77.7378858, 0.0)</td>\n      <td>8.721598</td>\n      <td>77.737886</td>\n      <td>0.0</td>\n    </tr>\n  </tbody>\n</table>\n</div>",
                        "text/plain": "   S.No               Institution Name                           Address  \\\n0    16             Medall Diagnostics                  10/5,Bypass road   \n1    17          Aarthi Scans and Labs  Lakshmi Complex, North High road   \n2    18  Anderson Daignostics and Labs          Anna Salai, Vannarpettai   \n3    19             RIO Scans and Labs           Ezhil Nagar, NGO Colony   \n4    20  Medall Healthcare pvt limited         Salai Street, Vannapettai   \n5    21             Medall Diagnostics                   Chermadevi Road   \n6    22          Aarthi Scans and Labs     Trivandrum Road, Vannarpettai   \n7    23             Apollo Diagnostics       Muthamil ROAD, Vannarpettai   \n8    24                SRL Diagnostics                     Palayamkottai   \n\n   PinCode         City                                           location  \\\n0   627003  Tirunelveli  (Palayamkottai, Tirunelveli Kattabo, Tamil Nad...   \n1   627002  Tirunelveli  (Palayamkottai, Tirunelveli Kattabo, Tamil Nad...   \n2   627003  Tirunelveli  (Palayamkottai, Tirunelveli Kattabo, Tamil Nad...   \n3   627007  Tirunelveli  (Palayamkottai, Tirunelveli Kattabo, Tamil Nad...   \n4   627003  Tirunelveli  (Palayamkottai, Tirunelveli Kattabo, Tamil Nad...   \n5   627004  Tirunelveli  (Tirunelveli, Tirunelveli Kattabo, Tamil Nadu,...   \n6   627003  Tirunelveli  (Palayamkottai, Tirunelveli Kattabo, Tamil Nad...   \n7   627003  Tirunelveli  (Palayamkottai, Tirunelveli Kattabo, Tamil Nad...   \n8   627002  Tirunelveli  (Palayamkottai, Tirunelveli Kattabo, Tamil Nad...   \n\n                                        point  latitude  longitude  altitude  \n0  (8.726356289189562, 77.7218275094003, 0.0)  8.726356  77.721828       0.0  \n1               (8.72159774, 77.7378858, 0.0)  8.721598  77.737886       0.0  \n2  (8.726356289189562, 77.7218275094003, 0.0)  8.726356  77.721828       0.0  \n3  (8.69764295341798, 77.73958474672634, 0.0)  8.697643  77.739585       0.0  \n4  (8.726356289189562, 77.7218275094003, 0.0)  8.726356  77.721828       0.0  \n5        (8.72443596, 77.68446775999999, 0.0)  8.724436  77.684468       0.0  \n6  (8.726356289189562, 77.7218275094003, 0.0)  8.726356  77.721828       0.0  \n7  (8.726356289189562, 77.7218275094003, 0.0)  8.726356  77.721828       0.0  \n8               (8.72159774, 77.7378858, 0.0)  8.721598  77.737886       0.0  "
                    },
                    "execution_count": 36,
                    "metadata": {},
                    "output_type": "execute_result"
                }
            ],
            "source": "df_t= df[df['City'].str.contains('Tirunelveli')]\nto_data = df_t.reset_index(drop=True)\nto_data"
        },
        {
            "cell_type": "markdown",
            "metadata": {},
            "source": "## Cluster the neighborhoods in Tirunelveli & Analyse the data for similarity"
        },
        {
            "cell_type": "code",
            "execution_count": 37,
            "metadata": {},
            "outputs": [
                {
                    "data": {
                        "text/plain": "'10/5,Bypass road'"
                    },
                    "execution_count": 37,
                    "metadata": {},
                    "output_type": "execute_result"
                }
            ],
            "source": "to_data.loc[0, 'Address']"
        },
        {
            "cell_type": "code",
            "execution_count": 38,
            "metadata": {},
            "outputs": [
                {
                    "name": "stdout",
                    "output_type": "stream",
                    "text": "Latitude and longitude values of 10/5,Bypass road are 8.726356289189562, 77.7218275094003.\n"
                }
            ],
            "source": "neighbourhood_latitude = to_data.loc[0, 'latitude'] # neighbourhood latitude value\nneighbourhood_longitude = to_data.loc[0, 'longitude'] # neighbourhood longitude value\n\nneighbourhood_name = to_data.loc[0, 'Address'] # neighbourhood name\n\nprint('Latitude and longitude values of {} are {}, {}.'.format(neighbourhood_name, \n                                                               neighbourhood_latitude, \n                                                               neighbourhood_longitude))\n"
        },
        {
            "cell_type": "markdown",
            "metadata": {},
            "source": "## To get the top 100 venus are within a radius from the centroid of 1500meters"
        },
        {
            "cell_type": "code",
            "execution_count": 51,
            "metadata": {},
            "outputs": [
                {
                    "data": {
                        "text/plain": "'https://api.foursquare.com/v2/venues/explore?&client_id=V1OVEOGKCB3MTGBJUMYDGWN4TJPA3VFMOQK0KVNJGOXPHTDE&client_secret=CR314FBCARORO5LIXCCFXC1HGYNZPKZKKMFNSSSB2N1JLC52&v=20200506&ll=8.726356289189562,77.7218275094003&radius=1500&limit=100'"
                    },
                    "execution_count": 51,
                    "metadata": {},
                    "output_type": "execute_result"
                }
            ],
            "source": "LIMIT = 100\nradius =1500\n\nurl = 'https://api.foursquare.com/v2/venues/explore?&client_id={}&client_secret={}&v={}&ll={},{}&radius={}&limit={}'.format(\n    CLIENT_ID, \n    CLIENT_SECRET, \n    VERSION, \n    neighbourhood_latitude, \n    neighbourhood_longitude, \n    radius, \n    LIMIT)\nurl"
        },
        {
            "cell_type": "code",
            "execution_count": 52,
            "metadata": {},
            "outputs": [
                {
                    "data": {
                        "text/plain": "{'meta': {'code': 200, 'requestId': '5eb2093e618f43001b1fb9a2'},\n 'response': {'headerLocation': 'Tirunelveli',\n  'headerFullLocation': 'Tirunelveli',\n  'headerLocationGranularity': 'city',\n  'totalResults': 11,\n  'suggestedBounds': {'ne': {'lat': 8.739856302689576,\n    'lng': 77.73546012524245},\n   'sw': {'lat': 8.712856275689548, 'lng': 77.70819489355814}},\n  'groups': [{'type': 'Recommended Places',\n    'name': 'recommended',\n    'items': [{'reasons': {'count': 0,\n       'items': [{'summary': 'This spot is popular',\n         'type': 'general',\n         'reasonName': 'globalInteractionReason'}]},\n      'venue': {'id': '4c497fe46594be9a94642625',\n       'name': 'R M K V',\n       'location': {'address': 'Vannarpettai',\n        'lat': 8.727168843225812,\n        'lng': 77.72281649522976,\n        'labeledLatLngs': [{'label': 'display',\n          'lat': 8.727168843225812,\n          'lng': 77.72281649522976}],\n        'distance': 141,\n        'postalCode': '627003',\n        'cc': 'IN',\n        'city': 'Tirunelveli',\n        'state': 'Tamil Nadu',\n        'country': 'India',\n        'formattedAddress': ['Vannarpettai',\n         'Tirunelveli 627003',\n         'Tamil Nadu',\n         'India']},\n       'categories': [{'id': '4bf58dd8d48988d103951735',\n         'name': 'Clothing Store',\n         'pluralName': 'Clothing Stores',\n         'shortName': 'Apparel',\n         'icon': {'prefix': 'https://ss3.4sqi.net/img/categories_v2/shops/apparel_',\n          'suffix': '.png'},\n         'primary': True}],\n       'photos': {'count': 0, 'groups': []}},\n      'referralId': 'e-0-4c497fe46594be9a94642625-0'},\n     {'reasons': {'count': 0,\n       'items': [{'summary': 'This spot is popular',\n         'type': 'general',\n         'reasonName': 'globalInteractionReason'}]},\n      'venue': {'id': '50ddab36e4b05736e665d45c',\n       'name': 'Hotel Vaira maligai',\n       'location': {'lat': 8.727283463235588,\n        'lng': 77.72713700328777,\n        'labeledLatLngs': [{'label': 'display',\n          'lat': 8.727283463235588,\n          'lng': 77.72713700328777}],\n        'distance': 593,\n        'cc': 'IN',\n        'country': 'India',\n        'formattedAddress': ['India']},\n       'categories': [{'id': '4bf58dd8d48988d10f941735',\n         'name': 'Indian Restaurant',\n         'pluralName': 'Indian Restaurants',\n         'shortName': 'Indian',\n         'icon': {'prefix': 'https://ss3.4sqi.net/img/categories_v2/food/indian_',\n          'suffix': '.png'},\n         'primary': True}],\n       'photos': {'count': 0, 'groups': []}},\n      'referralId': 'e-0-50ddab36e4b05736e665d45c-1'},\n     {'reasons': {'count': 0,\n       'items': [{'summary': 'This spot is popular',\n         'type': 'general',\n         'reasonName': 'globalInteractionReason'}]},\n      'venue': {'id': '515582f2e889d53a69a32ba9',\n       'name': 'Srijanakiram Hotels',\n       'location': {'address': '30, Madurai Road',\n        'lat': 8.73212301947244,\n        'lng': 77.71104097366332,\n        'labeledLatLngs': [{'label': 'display',\n          'lat': 8.73212301947244,\n          'lng': 77.71104097366332}],\n        'distance': 1349,\n        'postalCode': '627001',\n        'cc': 'IN',\n        'city': 'Tirunelveli',\n        'state': 'Tamil Nadu',\n        'country': 'India',\n        'formattedAddress': ['30, Madurai Road',\n         'Tirunelveli 627001',\n         'Tamil Nadu',\n         'India']},\n       'categories': [{'id': '4bf58dd8d48988d1fa931735',\n         'name': 'Hotel',\n         'pluralName': 'Hotels',\n         'shortName': 'Hotel',\n         'icon': {'prefix': 'https://ss3.4sqi.net/img/categories_v2/travel/hotel_',\n          'suffix': '.png'},\n         'primary': True}],\n       'photos': {'count': 0, 'groups': []},\n       'venuePage': {'id': '51905472'}},\n      'referralId': 'e-0-515582f2e889d53a69a32ba9-2'},\n     {'reasons': {'count': 0,\n       'items': [{'summary': 'This spot is popular',\n         'type': 'general',\n         'reasonName': 'globalInteractionReason'}]},\n      'venue': {'id': '4e7d9645e5fa0305fe2f5f6b',\n       'name': \"King's Chic Arasan Hotel\",\n       'location': {'address': 'V. V. Towers',\n        'crossStreet': 'Trivandrum Road',\n        'lat': 8.72463621714457,\n        'lng': 77.73158030016376,\n        'labeledLatLngs': [{'label': 'display',\n          'lat': 8.72463621714457,\n          'lng': 77.73158030016376}],\n        'distance': 1090,\n        'postalCode': '627002',\n        'cc': 'IN',\n        'city': 'Tirunelveli',\n        'state': 'Tamil Nadu',\n        'country': 'India',\n        'formattedAddress': ['V. V. Towers (Trivandrum Road)',\n         'Tirunelveli 627002',\n         'Tamil Nadu',\n         'India']},\n       'categories': [{'id': '4bf58dd8d48988d10f941735',\n         'name': 'Indian Restaurant',\n         'pluralName': 'Indian Restaurants',\n         'shortName': 'Indian',\n         'icon': {'prefix': 'https://ss3.4sqi.net/img/categories_v2/food/indian_',\n          'suffix': '.png'},\n         'primary': True}],\n       'photos': {'count': 0, 'groups': []}},\n      'referralId': 'e-0-4e7d9645e5fa0305fe2f5f6b-3'},\n     {'reasons': {'count': 0,\n       'items': [{'summary': 'This spot is popular',\n         'type': 'general',\n         'reasonName': 'globalInteractionReason'}]},\n      'venue': {'id': '50f16b15e4b033e18de18ff9',\n       'name': 'Apple ttree',\n       'location': {'address': 'North By Pass',\n        'crossStreet': 'Vannarpettai',\n        'lat': 8.731389539650259,\n        'lng': 77.72203956846751,\n        'labeledLatLngs': [{'label': 'display',\n          'lat': 8.731389539650259,\n          'lng': 77.72203956846751}],\n        'distance': 560,\n        'postalCode': '627003',\n        'cc': 'IN',\n        'city': 'Tirunelveli',\n        'state': 'Tamil Nadu',\n        'country': 'India',\n        'formattedAddress': ['North By Pass (Vannarpettai)',\n         'Tirunelveli 627003',\n         'Tamil Nadu',\n         'India']},\n       'categories': [{'id': '4bf58dd8d48988d1fa931735',\n         'name': 'Hotel',\n         'pluralName': 'Hotels',\n         'shortName': 'Hotel',\n         'icon': {'prefix': 'https://ss3.4sqi.net/img/categories_v2/travel/hotel_',\n          'suffix': '.png'},\n         'primary': True}],\n       'photos': {'count': 0, 'groups': []}},\n      'referralId': 'e-0-50f16b15e4b033e18de18ff9-4'},\n     {'reasons': {'count': 0,\n       'items': [{'summary': 'This spot is popular',\n         'type': 'general',\n         'reasonName': 'globalInteractionReason'}]},\n      'venue': {'id': '51868d43498e6f602ae5343d',\n       'name': 'Sri Janakiram Hotels',\n       'location': {'lat': 8.732319,\n        'lng': 77.711029,\n        'labeledLatLngs': [{'label': 'display',\n          'lat': 8.732319,\n          'lng': 77.711029}],\n        'distance': 1360,\n        'cc': 'IN',\n        'country': 'India',\n        'formattedAddress': ['India']},\n       'categories': [{'id': '4bf58dd8d48988d10f941735',\n         'name': 'Indian Restaurant',\n         'pluralName': 'Indian Restaurants',\n         'shortName': 'Indian',\n         'icon': {'prefix': 'https://ss3.4sqi.net/img/categories_v2/food/indian_',\n          'suffix': '.png'},\n         'primary': True}],\n       'photos': {'count': 0, 'groups': []}},\n      'referralId': 'e-0-51868d43498e6f602ae5343d-5'},\n     {'reasons': {'count': 0,\n       'items': [{'summary': 'This spot is popular',\n         'type': 'general',\n         'reasonName': 'globalInteractionReason'}]},\n      'venue': {'id': '51d13b88498ef874192aea74',\n       'name': 'Marrybrown',\n       'location': {'lat': 8.724888586795725,\n        'lng': 77.72135206759728,\n        'labeledLatLngs': [{'label': 'display',\n          'lat': 8.724888586795725,\n          'lng': 77.72135206759728}],\n        'distance': 171,\n        'cc': 'IN',\n        'country': 'India',\n        'formattedAddress': ['India']},\n       'categories': [{'id': '4bf58dd8d48988d16c941735',\n         'name': 'Burger Joint',\n         'pluralName': 'Burger Joints',\n         'shortName': 'Burgers',\n         'icon': {'prefix': 'https://ss3.4sqi.net/img/categories_v2/food/burger_',\n          'suffix': '.png'},\n         'primary': True}],\n       'photos': {'count': 0, 'groups': []}},\n      'referralId': 'e-0-51d13b88498ef874192aea74-6'},\n     {'reasons': {'count': 0,\n       'items': [{'summary': 'This spot is popular',\n         'type': 'general',\n         'reasonName': 'globalInteractionReason'}]},\n      'venue': {'id': '4f75ca0c7beb90b36ea5fbc8',\n       'name': 'World of Titan',\n       'location': {'address': '22, Trivandrum Road,Palayamkottai',\n        'lat': 8.725494031484535,\n        'lng': 77.73155794439785,\n        'labeledLatLngs': [{'label': 'display',\n          'lat': 8.725494031484535,\n          'lng': 77.73155794439785}],\n        'distance': 1074,\n        'postalCode': '627002',\n        'cc': 'IN',\n        'city': 'Tirunelveli',\n        'state': 'Tamil Nadu',\n        'country': 'India',\n        'formattedAddress': ['22, Trivandrum Road,Palayamkottai',\n         'Tirunelveli 627002',\n         'Tamil Nadu',\n         'India']},\n       'categories': [{'id': '4bf58dd8d48988d102951735',\n         'name': 'Accessories Store',\n         'pluralName': 'Accessories Stores',\n         'shortName': 'Accessories',\n         'icon': {'prefix': 'https://ss3.4sqi.net/img/categories_v2/shops/apparel_accessories_',\n          'suffix': '.png'},\n         'primary': True}],\n       'photos': {'count': 0, 'groups': []}},\n      'referralId': 'e-0-4f75ca0c7beb90b36ea5fbc8-7'},\n     {'reasons': {'count': 0,\n       'items': [{'summary': 'This spot is popular',\n         'type': 'general',\n         'reasonName': 'globalInteractionReason'}]},\n      'venue': {'id': '50c6fdc7e4b041c64c5bd572',\n       'name': 'Arasan Bakery',\n       'location': {'address': 'Opp. Of Railway Station',\n        'crossStreet': 'Next to Old Bus Station',\n        'lat': 8.731146821066499,\n        'lng': 77.71059743595491,\n        'labeledLatLngs': [{'label': 'display',\n          'lat': 8.731146821066499,\n          'lng': 77.71059743595491}],\n        'distance': 1345,\n        'cc': 'IN',\n        'city': 'Tirunelveli',\n        'state': 'Tamil Nadu',\n        'country': 'India',\n        'formattedAddress': ['Opp. Of Railway Station (Next to Old Bus Station)',\n         'Tirunelveli',\n         'Tamil Nadu',\n         'India']},\n       'categories': [{'id': '4bf58dd8d48988d16a941735',\n         'name': 'Bakery',\n         'pluralName': 'Bakeries',\n         'shortName': 'Bakery',\n         'icon': {'prefix': 'https://ss3.4sqi.net/img/categories_v2/food/bakery_',\n          'suffix': '.png'},\n         'primary': True}],\n       'photos': {'count': 0, 'groups': []}},\n      'referralId': 'e-0-50c6fdc7e4b041c64c5bd572-8'},\n     {'reasons': {'count': 0,\n       'items': [{'summary': 'This spot is popular',\n         'type': 'general',\n         'reasonName': 'globalInteractionReason'}]},\n      'venue': {'id': '4dd3fcf7d22dc96be812f610',\n       'name': 'Sree Bharani Hotels',\n       'location': {'address': '29,Madurai Road',\n        'lat': 8.732083258109107,\n        'lng': 77.71082662553164,\n        'labeledLatLngs': [{'label': 'display',\n          'lat': 8.732083258109107,\n          'lng': 77.71082662553164}],\n        'distance': 1368,\n        'cc': 'IN',\n        'city': 'Tirunelveli',\n        'state': 'Tamil Nadu',\n        'country': 'India',\n        'formattedAddress': ['29,Madurai Road',\n         'Tirunelveli',\n         'Tamil Nadu',\n         'India']},\n       'categories': [{'id': '4bf58dd8d48988d1fa931735',\n         'name': 'Hotel',\n         'pluralName': 'Hotels',\n         'shortName': 'Hotel',\n         'icon': {'prefix': 'https://ss3.4sqi.net/img/categories_v2/travel/hotel_',\n          'suffix': '.png'},\n         'primary': True}],\n       'photos': {'count': 0, 'groups': []}},\n      'referralId': 'e-0-4dd3fcf7d22dc96be812f610-9'},\n     {'reasons': {'count': 0,\n       'items': [{'summary': 'This spot is popular',\n         'type': 'general',\n         'reasonName': 'globalInteractionReason'}]},\n      'venue': {'id': '4f65c767e4b015497c671bb9',\n       'name': 'Santhi Sweets',\n       'location': {'lat': 8.730970577176073,\n        'lng': 77.71006638512294,\n        'labeledLatLngs': [{'label': 'display',\n          'lat': 8.730970577176073,\n          'lng': 77.71006638512294}],\n        'distance': 1392,\n        'cc': 'IN',\n        'country': 'India',\n        'formattedAddress': ['India']},\n       'categories': [{'id': '4bf58dd8d48988d1d0941735',\n         'name': 'Dessert Shop',\n         'pluralName': 'Dessert Shops',\n         'shortName': 'Desserts',\n         'icon': {'prefix': 'https://ss3.4sqi.net/img/categories_v2/food/dessert_',\n          'suffix': '.png'},\n         'primary': True}],\n       'photos': {'count': 0, 'groups': []}},\n      'referralId': 'e-0-4f65c767e4b015497c671bb9-10'}]}]}}"
                    },
                    "execution_count": 52,
                    "metadata": {},
                    "output_type": "execute_result"
                }
            ],
            "source": "results = requests.get(url).json()\nresults"
        },
        {
            "cell_type": "markdown",
            "metadata": {},
            "source": "## We have obtained 11 results searched by Foursquare.Let's categorize the venues for FeatureExtraction"
        },
        {
            "cell_type": "code",
            "execution_count": 53,
            "metadata": {},
            "outputs": [],
            "source": "# function that extracts the category of the venue\ndef get_category_type(row):\n    try:\n        categories_list = row['categories']\n    except:\n        categories_list = row['venue.categories']\n        \n    if len(categories_list) == 0:\n        return None\n    else:\n        return categories_list[0]['name']\n"
        },
        {
            "cell_type": "markdown",
            "metadata": {},
            "source": "## Preprocess the jsonfile and structure the data into a pandas dataframe"
        },
        {
            "cell_type": "code",
            "execution_count": 54,
            "metadata": {},
            "outputs": [
                {
                    "data": {
                        "text/html": "<div>\n<style scoped>\n    .dataframe tbody tr th:only-of-type {\n        vertical-align: middle;\n    }\n\n    .dataframe tbody tr th {\n        vertical-align: top;\n    }\n\n    .dataframe thead th {\n        text-align: right;\n    }\n</style>\n<table border=\"1\" class=\"dataframe\">\n  <thead>\n    <tr style=\"text-align: right;\">\n      <th></th>\n      <th>name</th>\n      <th>categories</th>\n      <th>lat</th>\n      <th>lng</th>\n    </tr>\n  </thead>\n  <tbody>\n    <tr>\n      <th>0</th>\n      <td>R M K V</td>\n      <td>Clothing Store</td>\n      <td>8.727169</td>\n      <td>77.722816</td>\n    </tr>\n    <tr>\n      <th>1</th>\n      <td>Hotel Vaira maligai</td>\n      <td>Indian Restaurant</td>\n      <td>8.727283</td>\n      <td>77.727137</td>\n    </tr>\n    <tr>\n      <th>2</th>\n      <td>Srijanakiram Hotels</td>\n      <td>Hotel</td>\n      <td>8.732123</td>\n      <td>77.711041</td>\n    </tr>\n    <tr>\n      <th>3</th>\n      <td>King's Chic Arasan Hotel</td>\n      <td>Indian Restaurant</td>\n      <td>8.724636</td>\n      <td>77.731580</td>\n    </tr>\n    <tr>\n      <th>4</th>\n      <td>Apple ttree</td>\n      <td>Hotel</td>\n      <td>8.731390</td>\n      <td>77.722040</td>\n    </tr>\n  </tbody>\n</table>\n</div>",
                        "text/plain": "                       name         categories       lat        lng\n0                   R M K V     Clothing Store  8.727169  77.722816\n1       Hotel Vaira maligai  Indian Restaurant  8.727283  77.727137\n2       Srijanakiram Hotels              Hotel  8.732123  77.711041\n3  King's Chic Arasan Hotel  Indian Restaurant  8.724636  77.731580\n4               Apple ttree              Hotel  8.731390  77.722040"
                    },
                    "execution_count": 54,
                    "metadata": {},
                    "output_type": "execute_result"
                }
            ],
            "source": "venues = results['response']['groups'][0]['items']\n    \nnearby_venues = json_normalize(venues) # flatten JSON\n\n# filter columns\nfiltered_columns = ['venue.name', 'venue.categories', 'venue.location.lat', 'venue.location.lng']\nnearby_venues =nearby_venues.loc[:, filtered_columns]\n\n# filter the category for each row\nnearby_venues['venue.categories'] = nearby_venues.apply(get_category_type, axis=1)\n\n# clean columns\nnearby_venues.columns = [col.split(\".\")[-1] for col in nearby_venues.columns]\n\nnearby_venues.head()"
        },
        {
            "cell_type": "code",
            "execution_count": 55,
            "metadata": {},
            "outputs": [
                {
                    "data": {
                        "text/html": "<div>\n<style scoped>\n    .dataframe tbody tr th:only-of-type {\n        vertical-align: middle;\n    }\n\n    .dataframe tbody tr th {\n        vertical-align: top;\n    }\n\n    .dataframe thead th {\n        text-align: right;\n    }\n</style>\n<table border=\"1\" class=\"dataframe\">\n  <thead>\n    <tr style=\"text-align: right;\">\n      <th></th>\n      <th>name</th>\n      <th>Accessories Store</th>\n      <th>Bakery</th>\n      <th>Burger Joint</th>\n      <th>Clothing Store</th>\n      <th>Dessert Shop</th>\n      <th>Hotel</th>\n      <th>Indian Restaurant</th>\n    </tr>\n  </thead>\n  <tbody>\n    <tr>\n      <th>0</th>\n      <td>R M K V</td>\n      <td>0</td>\n      <td>0</td>\n      <td>0</td>\n      <td>1</td>\n      <td>0</td>\n      <td>0</td>\n      <td>0</td>\n    </tr>\n    <tr>\n      <th>1</th>\n      <td>Hotel Vaira maligai</td>\n      <td>0</td>\n      <td>0</td>\n      <td>0</td>\n      <td>0</td>\n      <td>0</td>\n      <td>0</td>\n      <td>1</td>\n    </tr>\n    <tr>\n      <th>2</th>\n      <td>Srijanakiram Hotels</td>\n      <td>0</td>\n      <td>0</td>\n      <td>0</td>\n      <td>0</td>\n      <td>0</td>\n      <td>1</td>\n      <td>0</td>\n    </tr>\n    <tr>\n      <th>3</th>\n      <td>King's Chic Arasan Hotel</td>\n      <td>0</td>\n      <td>0</td>\n      <td>0</td>\n      <td>0</td>\n      <td>0</td>\n      <td>0</td>\n      <td>1</td>\n    </tr>\n    <tr>\n      <th>4</th>\n      <td>Apple ttree</td>\n      <td>0</td>\n      <td>0</td>\n      <td>0</td>\n      <td>0</td>\n      <td>0</td>\n      <td>1</td>\n      <td>0</td>\n    </tr>\n  </tbody>\n</table>\n</div>",
                        "text/plain": "                       name  Accessories Store  Bakery  Burger Joint  \\\n0                   R M K V                  0       0             0   \n1       Hotel Vaira maligai                  0       0             0   \n2       Srijanakiram Hotels                  0       0             0   \n3  King's Chic Arasan Hotel                  0       0             0   \n4               Apple ttree                  0       0             0   \n\n   Clothing Store  Dessert Shop  Hotel  Indian Restaurant  \n0               1             0      0                  0  \n1               0             0      0                  1  \n2               0             0      1                  0  \n3               0             0      0                  1  \n4               0             0      1                  0  "
                    },
                    "execution_count": 55,
                    "metadata": {},
                    "output_type": "execute_result"
                }
            ],
            "source": "# let's do the one hot encoding\nT_onehot = pd.get_dummies(nearby_venues[['categories']], prefix=\"\", prefix_sep=\"\")\n\n# add neighborhood column back to dataframe\nT_onehot['name'] = nearby_venues['name'] \n\n# move neighborhood column to the first column\nfixed_columns = [T_onehot.columns[-1]] + list(T_onehot.columns[:-1])\nT_onehot = T_onehot[fixed_columns]\n\nT_onehot.head()"
        },
        {
            "cell_type": "code",
            "execution_count": 56,
            "metadata": {},
            "outputs": [
                {
                    "data": {
                        "text/plain": "(11, 8)"
                    },
                    "execution_count": 56,
                    "metadata": {},
                    "output_type": "execute_result"
                }
            ],
            "source": "T_onehot.shape"
        },
        {
            "cell_type": "code",
            "execution_count": 57,
            "metadata": {},
            "outputs": [
                {
                    "data": {
                        "text/html": "<div>\n<style scoped>\n    .dataframe tbody tr th:only-of-type {\n        vertical-align: middle;\n    }\n\n    .dataframe tbody tr th {\n        vertical-align: top;\n    }\n\n    .dataframe thead th {\n        text-align: right;\n    }\n</style>\n<table border=\"1\" class=\"dataframe\">\n  <thead>\n    <tr style=\"text-align: right;\">\n      <th></th>\n      <th>name</th>\n      <th>Accessories Store</th>\n      <th>Bakery</th>\n      <th>Burger Joint</th>\n      <th>Clothing Store</th>\n      <th>Dessert Shop</th>\n      <th>Hotel</th>\n      <th>Indian Restaurant</th>\n    </tr>\n  </thead>\n  <tbody>\n    <tr>\n      <th>0</th>\n      <td>Apple ttree</td>\n      <td>0</td>\n      <td>0</td>\n      <td>0</td>\n      <td>0</td>\n      <td>0</td>\n      <td>1</td>\n      <td>0</td>\n    </tr>\n    <tr>\n      <th>1</th>\n      <td>Arasan Bakery</td>\n      <td>0</td>\n      <td>1</td>\n      <td>0</td>\n      <td>0</td>\n      <td>0</td>\n      <td>0</td>\n      <td>0</td>\n    </tr>\n    <tr>\n      <th>2</th>\n      <td>Hotel Vaira maligai</td>\n      <td>0</td>\n      <td>0</td>\n      <td>0</td>\n      <td>0</td>\n      <td>0</td>\n      <td>0</td>\n      <td>1</td>\n    </tr>\n    <tr>\n      <th>3</th>\n      <td>King's Chic Arasan Hotel</td>\n      <td>0</td>\n      <td>0</td>\n      <td>0</td>\n      <td>0</td>\n      <td>0</td>\n      <td>0</td>\n      <td>1</td>\n    </tr>\n    <tr>\n      <th>4</th>\n      <td>Marrybrown</td>\n      <td>0</td>\n      <td>0</td>\n      <td>1</td>\n      <td>0</td>\n      <td>0</td>\n      <td>0</td>\n      <td>0</td>\n    </tr>\n    <tr>\n      <th>5</th>\n      <td>R M K V</td>\n      <td>0</td>\n      <td>0</td>\n      <td>0</td>\n      <td>1</td>\n      <td>0</td>\n      <td>0</td>\n      <td>0</td>\n    </tr>\n    <tr>\n      <th>6</th>\n      <td>Santhi Sweets</td>\n      <td>0</td>\n      <td>0</td>\n      <td>0</td>\n      <td>0</td>\n      <td>1</td>\n      <td>0</td>\n      <td>0</td>\n    </tr>\n    <tr>\n      <th>7</th>\n      <td>Sree Bharani Hotels</td>\n      <td>0</td>\n      <td>0</td>\n      <td>0</td>\n      <td>0</td>\n      <td>0</td>\n      <td>1</td>\n      <td>0</td>\n    </tr>\n    <tr>\n      <th>8</th>\n      <td>Sri Janakiram Hotels</td>\n      <td>0</td>\n      <td>0</td>\n      <td>0</td>\n      <td>0</td>\n      <td>0</td>\n      <td>0</td>\n      <td>1</td>\n    </tr>\n    <tr>\n      <th>9</th>\n      <td>Srijanakiram Hotels</td>\n      <td>0</td>\n      <td>0</td>\n      <td>0</td>\n      <td>0</td>\n      <td>0</td>\n      <td>1</td>\n      <td>0</td>\n    </tr>\n    <tr>\n      <th>10</th>\n      <td>World of Titan</td>\n      <td>1</td>\n      <td>0</td>\n      <td>0</td>\n      <td>0</td>\n      <td>0</td>\n      <td>0</td>\n      <td>0</td>\n    </tr>\n  </tbody>\n</table>\n</div>",
                        "text/plain": "                        name  Accessories Store  Bakery  Burger Joint  \\\n0                Apple ttree                  0       0             0   \n1              Arasan Bakery                  0       1             0   \n2        Hotel Vaira maligai                  0       0             0   \n3   King's Chic Arasan Hotel                  0       0             0   \n4                 Marrybrown                  0       0             1   \n5                    R M K V                  0       0             0   \n6              Santhi Sweets                  0       0             0   \n7        Sree Bharani Hotels                  0       0             0   \n8       Sri Janakiram Hotels                  0       0             0   \n9        Srijanakiram Hotels                  0       0             0   \n10            World of Titan                  1       0             0   \n\n    Clothing Store  Dessert Shop  Hotel  Indian Restaurant  \n0                0             0      1                  0  \n1                0             0      0                  0  \n2                0             0      0                  1  \n3                0             0      0                  1  \n4                0             0      0                  0  \n5                1             0      0                  0  \n6                0             1      0                  0  \n7                0             0      1                  0  \n8                0             0      0                  1  \n9                0             0      1                  0  \n10               0             0      0                  0  "
                    },
                    "execution_count": 57,
                    "metadata": {},
                    "output_type": "execute_result"
                }
            ],
            "source": "T_grouped = T_onehot.groupby('name').mean().reset_index()\nT_grouped"
        },
        {
            "cell_type": "markdown",
            "metadata": {},
            "source": "## Top 7 venues are listed"
        },
        {
            "cell_type": "code",
            "execution_count": 63,
            "metadata": {},
            "outputs": [
                {
                    "data": {
                        "text/html": "<div>\n<style scoped>\n    .dataframe tbody tr th:only-of-type {\n        vertical-align: middle;\n    }\n\n    .dataframe tbody tr th {\n        vertical-align: top;\n    }\n\n    .dataframe thead th {\n        text-align: right;\n    }\n</style>\n<table border=\"1\" class=\"dataframe\">\n  <thead>\n    <tr style=\"text-align: right;\">\n      <th></th>\n      <th>name</th>\n      <th>1st Most Common Venue</th>\n      <th>2nd Most Common Venue</th>\n      <th>3rd Most Common Venue</th>\n      <th>4th Most Common Venue</th>\n      <th>5th Most Common Venue</th>\n      <th>6th Most Common Venue</th>\n      <th>7th Most Common Venue</th>\n    </tr>\n  </thead>\n  <tbody>\n    <tr>\n      <th>0</th>\n      <td>Apple ttree</td>\n      <td>Hotel</td>\n      <td>Indian Restaurant</td>\n      <td>Dessert Shop</td>\n      <td>Clothing Store</td>\n      <td>Burger Joint</td>\n      <td>Bakery</td>\n      <td>Accessories Store</td>\n    </tr>\n    <tr>\n      <th>1</th>\n      <td>Arasan Bakery</td>\n      <td>Bakery</td>\n      <td>Indian Restaurant</td>\n      <td>Hotel</td>\n      <td>Dessert Shop</td>\n      <td>Clothing Store</td>\n      <td>Burger Joint</td>\n      <td>Accessories Store</td>\n    </tr>\n    <tr>\n      <th>2</th>\n      <td>Hotel Vaira maligai</td>\n      <td>Indian Restaurant</td>\n      <td>Hotel</td>\n      <td>Dessert Shop</td>\n      <td>Clothing Store</td>\n      <td>Burger Joint</td>\n      <td>Bakery</td>\n      <td>Accessories Store</td>\n    </tr>\n    <tr>\n      <th>3</th>\n      <td>King's Chic Arasan Hotel</td>\n      <td>Indian Restaurant</td>\n      <td>Hotel</td>\n      <td>Dessert Shop</td>\n      <td>Clothing Store</td>\n      <td>Burger Joint</td>\n      <td>Bakery</td>\n      <td>Accessories Store</td>\n    </tr>\n    <tr>\n      <th>4</th>\n      <td>Marrybrown</td>\n      <td>Burger Joint</td>\n      <td>Indian Restaurant</td>\n      <td>Hotel</td>\n      <td>Dessert Shop</td>\n      <td>Clothing Store</td>\n      <td>Bakery</td>\n      <td>Accessories Store</td>\n    </tr>\n  </tbody>\n</table>\n</div>",
                        "text/plain": "                       name 1st Most Common Venue 2nd Most Common Venue  \\\n0               Apple ttree                 Hotel     Indian Restaurant   \n1             Arasan Bakery                Bakery     Indian Restaurant   \n2       Hotel Vaira maligai     Indian Restaurant                 Hotel   \n3  King's Chic Arasan Hotel     Indian Restaurant                 Hotel   \n4                Marrybrown          Burger Joint     Indian Restaurant   \n\n  3rd Most Common Venue 4th Most Common Venue 5th Most Common Venue  \\\n0          Dessert Shop        Clothing Store          Burger Joint   \n1                 Hotel          Dessert Shop        Clothing Store   \n2          Dessert Shop        Clothing Store          Burger Joint   \n3          Dessert Shop        Clothing Store          Burger Joint   \n4                 Hotel          Dessert Shop        Clothing Store   \n\n  6th Most Common Venue 7th Most Common Venue  \n0                Bakery     Accessories Store  \n1          Burger Joint     Accessories Store  \n2                Bakery     Accessories Store  \n3                Bakery     Accessories Store  \n4                Bakery     Accessories Store  "
                    },
                    "execution_count": 63,
                    "metadata": {},
                    "output_type": "execute_result"
                }
            ],
            "source": "num_top_venues = 7\ndef return_most_common_venues(row, num_top_venues):\n    row_categories = row.iloc[1:]\n    row_categories_sorted = row_categories.sort_values(ascending=False)\n    \n    return row_categories_sorted.index.values[0:num_top_venues]\n\nindicators = ['st', 'nd', 'rd']\n\n# create columns according to number of top venues\ncolumns = ['name']\nfor ind in np.arange(num_top_venues):\n    try:\n        columns.append('{}{} Most Common Venue'.format(ind+1, indicators[ind]))\n    except:\n        columns.append('{}th Most Common Venue'.format(ind+1))\n\n# create a new dataframe\nneighborhoods_venues_sorted = pd.DataFrame(columns=columns)\nneighborhoods_venues_sorted['name'] = T_grouped['name']\n\nfor ind in np.arange(T_grouped.shape[0]):\n    neighborhoods_venues_sorted.iloc[ind, 1:] = return_most_common_venues(T_grouped.iloc[ind, :], num_top_venues)\n\nneighborhoods_venues_sorted.head()"
        },
        {
            "cell_type": "markdown",
            "metadata": {},
            "source": "## Cluster Tirunelveli-Neighborhood with Kmeans clustering Algorithm"
        },
        {
            "cell_type": "code",
            "execution_count": 64,
            "metadata": {},
            "outputs": [
                {
                    "data": {
                        "text/plain": "array([1, 3, 2, 2, 0, 0, 0, 1, 2, 1], dtype=int32)"
                    },
                    "execution_count": 64,
                    "metadata": {},
                    "output_type": "execute_result"
                }
            ],
            "source": "from sklearn.cluster import KMeans\nkclusters = 5\nT_grouped_clustering = T_grouped.drop('name', 1)\n\n# run k-means clustering\nkmeans = KMeans(n_clusters=kclusters, random_state=0).fit(T_grouped_clustering)\n\n# check cluster labels generated for each row in the dataframe\nkmeans.labels_[0:10]"
        },
        {
            "cell_type": "code",
            "execution_count": 65,
            "metadata": {},
            "outputs": [
                {
                    "data": {
                        "text/plain": "2    3\n1    3\n0    3\n4    1\n3    1\ndtype: int64"
                    },
                    "execution_count": 65,
                    "metadata": {},
                    "output_type": "execute_result"
                }
            ],
            "source": "pd.Series(kmeans.labels_).value_counts()"
        },
        {
            "cell_type": "code",
            "execution_count": 74,
            "metadata": {},
            "outputs": [
                {
                    "name": "stdout",
                    "output_type": "stream",
                    "text": "Requirement already satisfied: folium in /opt/conda/envs/Python36/lib/python3.6/site-packages (0.10.1)\nRequirement already satisfied: requests in /opt/conda/envs/Python36/lib/python3.6/site-packages (from folium) (2.21.0)\nRequirement already satisfied: numpy in /opt/conda/envs/Python36/lib/python3.6/site-packages (from folium) (1.15.4)\nRequirement already satisfied: jinja2>=2.9 in /opt/conda/envs/Python36/lib/python3.6/site-packages (from folium) (2.10)\nRequirement already satisfied: branca>=0.3.0 in /opt/conda/envs/Python36/lib/python3.6/site-packages (from folium) (0.4.0)\nRequirement already satisfied: urllib3<1.25,>=1.21.1 in /opt/conda/envs/Python36/lib/python3.6/site-packages (from requests->folium) (1.24.1)\nRequirement already satisfied: certifi>=2017.4.17 in /opt/conda/envs/Python36/lib/python3.6/site-packages (from requests->folium) (2020.4.5.1)\nRequirement already satisfied: chardet<3.1.0,>=3.0.2 in /opt/conda/envs/Python36/lib/python3.6/site-packages (from requests->folium) (3.0.4)\nRequirement already satisfied: idna<2.9,>=2.5 in /opt/conda/envs/Python36/lib/python3.6/site-packages (from requests->folium) (2.8)\nRequirement already satisfied: MarkupSafe>=0.23 in /opt/conda/envs/Python36/lib/python3.6/site-packages (from jinja2>=2.9->folium) (1.1.0)\nRequirement already satisfied: six in /opt/conda/envs/Python36/lib/python3.6/site-packages (from branca>=0.3.0->folium) (1.12.0)\n"
                }
            ],
            "source": "!pip install folium\nimport folium \nimport seaborn as sns"
        },
        {
            "cell_type": "code",
            "execution_count": 80,
            "metadata": {},
            "outputs": [
                {
                    "data": {
                        "text/plain": "<function __main__.clusterMap(neighborhoods_venues_sorted, latitude, longitude)>"
                    },
                    "execution_count": 80,
                    "metadata": {},
                    "output_type": "execute_result"
                }
            ],
            "source": "Latitude=8.726356289189562\nLongitude=77.7218275094003\ndef clusterMap(neighborhoods_venues_sorted,latitude,longitude):\n    # create map\n    map_clusters = folium.Map(location=[latitude, longitude], zoom_start=11)\n    # set color scheme for the clusters\n    kclusters = max(neighborhoods_venues_sorted['Cluster Labels'] + 1) #kclusters is the number K chosen. deduce from labels\n    x = np.arange(kclusters)  \n    ys = [i + x + (i*x)**2 for i in range(kclusters)]\n    colors_array = cm.rainbow(np.linspace(0, 1, len(ys)))\n    rainbow = [colors.rgb2hex(i) for i in colors_array]\n    # add markers to the map\n    markers_colors = []\n    for lat, lon, poi, cluster in zip(neighborhoods_venues_sorted['Latitude'], neighborhoods_venues_sorted['Longitude'], neighborhoods_venues_sorted['Neighborhood'], neighborhoods_venues_sorted['Cluster Labels']):\n        label = folium.Popup(str(poi) + ' Cluster ' + str(cluster), parse_html=True)\n        folium.CircleMarker(\n            [lat, lon],\n            radius=5,\n            popup=label,\n            color=rainbow[cluster-1],\n            fill=True,\n            fill_color=rainbow[cluster-1],\n            fill_opacity=0.7).add_to(map_clusters)\n    return(map_clusters)\nclusterMap"
        },
        {
            "cell_type": "markdown",
            "metadata": {},
            "source": "Using 5 clusters, the model essentially aggregated equal amount of the data into 3 clusters.\nOut of 11 neighborhoods being considered, cluster2,1,0 has each 3venues. The remaining 2 neighborhoods were spread among clusters 4&3."
        }
    ],
    "metadata": {
        "kernelspec": {
            "display_name": "Python 3.6",
            "language": "python",
            "name": "python3"
        },
        "language_info": {
            "codemirror_mode": {
                "name": "ipython",
                "version": 3
            },
            "file_extension": ".py",
            "mimetype": "text/x-python",
            "name": "python",
            "nbconvert_exporter": "python",
            "pygments_lexer": "ipython3",
            "version": "3.6.9"
        }
    },
    "nbformat": 4,
    "nbformat_minor": 1
}